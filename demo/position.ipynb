{
 "cells": [
  {
   "cell_type": "markdown",
   "metadata": {},
   "source": [
    "# Demo of Position Object"
   ]
  },
  {
   "cell_type": "code",
   "execution_count": 4,
   "metadata": {},
   "outputs": [
    {
     "name": "stdout",
     "output_type": "stream",
     "text": [
      "0.0 0.0 0.0\n"
     ]
    }
   ],
   "source": [
    "# change Python Path\n",
    "from pathlib import Path\n",
    "\n",
    "import numpy as np\n",
    "pkg_dir = Path().resolve().parents[0]\n",
    "import sys\n",
    "sys.path.insert(0,str(pkg_dir.absolute()))\n",
    "\n",
    "# import\n",
    "from firefly.geography.position import Position\n",
    "\n",
    "a = Position(1,2,3)\n",
    "\n",
    "b = np.array([0.,1,2])\n",
    "\n",
    "a = Position.from_LLA(b[0],0.,0.)\n",
    "\n",
    "[lat,lon,alt] = a.as_LLA()\n",
    "\n",
    "print(lat,lon,alt)\n",
    "\n",
    "c = Position(b[0],0.,0.)\n",
    "\n",
    "\n",
    "\n",
    "\n",
    "\n",
    "\n",
    "\n",
    "\n"
   ]
  }
 ],
 "metadata": {
  "kernelspec": {
   "display_name": ".venv",
   "language": "python",
   "name": "python3"
  },
  "language_info": {
   "codemirror_mode": {
    "name": "ipython",
    "version": 3
   },
   "file_extension": ".py",
   "mimetype": "text/x-python",
   "name": "python",
   "nbconvert_exporter": "python",
   "pygments_lexer": "ipython3",
   "version": "3.11.3"
  },
  "orig_nbformat": 4
 },
 "nbformat": 4,
 "nbformat_minor": 2
}
