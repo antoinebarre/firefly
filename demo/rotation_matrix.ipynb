{
 "cells": [
  {
   "cell_type": "markdown",
   "metadata": {},
   "source": [
    "# Demo of basic rotation matrix"
   ]
  },
  {
   "cell_type": "code",
   "execution_count": 16,
   "metadata": {},
   "outputs": [],
   "source": [
    "# change Python Path\n",
    "from pathlib import Path\n",
    "pkg_dir = Path().resolve().parents[0]\n",
    "import sys\n",
    "sys.path.insert(0,str(pkg_dir.absolute()))\n",
    "\n",
    "# import\n",
    "from firefly.math.rotation_matrix import *\n",
    "import numpy as np\n",
    "\n",
    "# rotation angles\n",
    "rotation_angle = np.rad2deg(45)\n",
    "\n",
    "\n"
   ]
  },
  {
   "cell_type": "markdown",
   "metadata": {},
   "source": [
    "## Rotation along X"
   ]
  },
  {
   "cell_type": "code",
   "execution_count": 17,
   "metadata": {},
   "outputs": [
    {
     "name": "stdout",
     "output_type": "stream",
     "text": [
      "[[ 1.          0.          0.        ]\n",
      " [ 0.         -0.59181273  0.80607549]\n",
      " [ 0.         -0.80607549 -0.59181273]]\n"
     ]
    }
   ],
   "source": [
    "print(rotx(rotation_angle))"
   ]
  },
  {
   "cell_type": "markdown",
   "metadata": {},
   "source": [
    "## Rotation along Y"
   ]
  },
  {
   "cell_type": "code",
   "execution_count": 18,
   "metadata": {},
   "outputs": [
    {
     "name": "stdout",
     "output_type": "stream",
     "text": [
      "[[-0.59181273  0.         -0.80607549]\n",
      " [ 0.          1.          0.        ]\n",
      " [ 0.80607549  0.         -0.59181273]]\n"
     ]
    }
   ],
   "source": [
    "print(roty(rotation_angle))"
   ]
  },
  {
   "cell_type": "markdown",
   "metadata": {},
   "source": [
    "## Rotation along Z"
   ]
  },
  {
   "cell_type": "code",
   "execution_count": 19,
   "metadata": {},
   "outputs": [
    {
     "name": "stdout",
     "output_type": "stream",
     "text": [
      "[[-0.59181273  0.80607549  0.        ]\n",
      " [-0.80607549 -0.59181273  0.        ]\n",
      " [ 0.          0.          1.        ]]\n"
     ]
    }
   ],
   "source": [
    "print(rotz(rotation_angle))"
   ]
  },
  {
   "cell_type": "markdown",
   "metadata": {},
   "source": [
    "## Error Handling"
   ]
  },
  {
   "cell_type": "code",
   "execution_count": 24,
   "metadata": {},
   "outputs": [
    {
     "ename": "BeartypeCallHintParamViolation",
     "evalue": "Function firefly.math.rotation_matrix.__fundamentalRotation() parameter theta=1 violates type hint <class 'float'>, as int 1 not instance of float.",
     "output_type": "error",
     "traceback": [
      "\u001b[1;31m---------------------------------------------------------------------------\u001b[0m",
      "\u001b[1;31mBeartypeCallHintParamViolation\u001b[0m            Traceback (most recent call last)",
      "Cell \u001b[1;32mIn[24], line 1\u001b[0m\n\u001b[1;32m----> 1\u001b[0m a \u001b[39m=\u001b[39m rotx(\u001b[39m1\u001b[39;49m)\n",
      "File \u001b[1;32mC:\\Z\\firefly\\firefly\\math\\rotation_matrix.py:20\u001b[0m, in \u001b[0;36mrotx\u001b[1;34m(theta)\u001b[0m\n\u001b[0;32m     19\u001b[0m \u001b[39mdef\u001b[39;00m \u001b[39mrotx\u001b[39m(theta: \u001b[39mfloat\u001b[39m) \u001b[39m-\u001b[39m\u001b[39m>\u001b[39m np\u001b[39m.\u001b[39mndarray:\n\u001b[1;32m---> 20\u001b[0m     \u001b[39mreturn\u001b[39;00m __fundamentalRotation(np\u001b[39m.\u001b[39;49marray([\u001b[39m1.0\u001b[39;49m, \u001b[39m0\u001b[39;49m, \u001b[39m0\u001b[39;49m]),theta)\n",
      "File \u001b[1;32m<@beartype(firefly.math.rotation_matrix.__fundamentalRotation) at 0x1eafe8a9080>:46\u001b[0m, in \u001b[0;36m__fundamentalRotation\u001b[1;34m(__beartype_func, __beartype_conf, __beartype_get_violation, __beartype_object_2108803888320, __beartype_object_140736755475056, *args, **kwargs)\u001b[0m\n",
      "\u001b[1;31mBeartypeCallHintParamViolation\u001b[0m: Function firefly.math.rotation_matrix.__fundamentalRotation() parameter theta=1 violates type hint <class 'float'>, as int 1 not instance of float."
     ]
    }
   ],
   "source": [
    "a = rotx(1)"
   ]
  }
 ],
 "metadata": {
  "kernelspec": {
   "display_name": ".venv",
   "language": "python",
   "name": "python3"
  },
  "language_info": {
   "codemirror_mode": {
    "name": "ipython",
    "version": 3
   },
   "file_extension": ".py",
   "mimetype": "text/x-python",
   "name": "python",
   "nbconvert_exporter": "python",
   "pygments_lexer": "ipython3",
   "version": "3.11.3"
  },
  "orig_nbformat": 4
 },
 "nbformat": 4,
 "nbformat_minor": 2
}
