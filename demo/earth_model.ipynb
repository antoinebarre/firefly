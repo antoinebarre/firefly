{
 "cells": [
  {
   "cell_type": "markdown",
   "metadata": {},
   "source": [
    "# Demo of Earth Model"
   ]
  },
  {
   "cell_type": "code",
   "execution_count": 3,
   "metadata": {},
   "outputs": [
    {
     "name": "stdout",
     "output_type": "stream",
     "text": [
      "name='WGS84' semiMajorAxis=6378137.0 flattening=0.0033528106647474805 j2=0.00108263 earthRotationRate=7.292115e-05 mu=398600441800000.0\n"
     ]
    }
   ],
   "source": [
    "# change Python Path\n",
    "from pathlib import Path\n",
    "pkg_dir = Path().resolve().parents[0]\n",
    "import sys\n",
    "sys.path.insert(0,str(pkg_dir.absolute()))\n",
    "\n",
    "# import\n",
    "from firefly.constants.earth_model import EarthModel, AVAILABLE_ELLIPSOIDS\n",
    "\n",
    "\n",
    "a = EarthModel()\n",
    "\n",
    "print(a)\n",
    "\n",
    "\n",
    "\n",
    "\n",
    "\n"
   ]
  }
 ],
 "metadata": {
  "kernelspec": {
   "display_name": ".venv",
   "language": "python",
   "name": "python3"
  },
  "language_info": {
   "codemirror_mode": {
    "name": "ipython",
    "version": 3
   },
   "file_extension": ".py",
   "mimetype": "text/x-python",
   "name": "python",
   "nbconvert_exporter": "python",
   "pygments_lexer": "ipython3",
   "version": "3.11.3"
  },
  "orig_nbformat": 4
 },
 "nbformat": 4,
 "nbformat_minor": 2
}
